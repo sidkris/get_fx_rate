{
 "cells": [
  {
   "cell_type": "code",
   "execution_count": 21,
   "metadata": {},
   "outputs": [
    {
     "name": "stdout",
     "output_type": "stream",
     "text": [
      "please enter the currency you would like to fetch the rate for (example : INR) : INR\n",
      "please enter a base currency (example: USD, EUR, etc.) : USD\n",
      "please enter the date you would like to fetch the exchange rate for [YYYY-MM-DD] : 2020-01-01\n",
      "71.3788499199\n"
     ]
    }
   ],
   "source": [
    "import requests, json\n",
    "\n",
    "ccy = input (\"please enter the currency you would like to fetch the rate for (example : INR) : \")\n",
    "base_ccy = input(\"please enter a base currency (example: USD, EUR, etc.) : \")\n",
    "ref_date = input(\"please enter the date you would like to fetch the exchange rate for [YYYY-MM-DD] : \")\n",
    "\n",
    "base_url = \"https://api.exchangeratesapi.io\"\n",
    "ref_url = base_url + \"/{}?base={}&symbols={}\".format(ref_date,base_ccy,ccy)\n",
    "response = requests.get(ref_url)\n",
    "data = response.json()\n",
    "print(data[\"rates\"][ccy])"
   ]
  },
  {
   "cell_type": "code",
   "execution_count": null,
   "metadata": {},
   "outputs": [],
   "source": []
  },
  {
   "cell_type": "code",
   "execution_count": null,
   "metadata": {},
   "outputs": [],
   "source": []
  }
 ],
 "metadata": {
  "kernelspec": {
   "display_name": "Python 3",
   "language": "python",
   "name": "python3"
  },
  "language_info": {
   "codemirror_mode": {
    "name": "ipython",
    "version": 3
   },
   "file_extension": ".py",
   "mimetype": "text/x-python",
   "name": "python",
   "nbconvert_exporter": "python",
   "pygments_lexer": "ipython3",
   "version": "3.7.6"
  }
 },
 "nbformat": 4,
 "nbformat_minor": 4
}
